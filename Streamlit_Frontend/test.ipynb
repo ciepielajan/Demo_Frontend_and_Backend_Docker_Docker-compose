{
 "cells": [
  {
   "cell_type": "code",
   "execution_count": 24,
   "metadata": {},
   "outputs": [
    {
     "name": "stdout",
     "output_type": "stream",
     "text": [
      "200,\n",
      "True\n",
      "Output:\n",
      "{'name': 'Foo'}\n"
     ]
    }
   ],
   "source": [
    "import requests\n",
    "\n",
    "data_test = {\n",
    "    \"name\": \"Foo\",\n",
    "}\n",
    "\n",
    "prediction_url = \"http://127.0.0.1:8000/prediction\"\n",
    "# prediction_url = \"http://fastapi:8000/prediction\"\n",
    "\n",
    "\n",
    "# hall_response = requests.post(url=prediction_url, json={\"data\": data_test})\n",
    "hall_response = requests.post(url=prediction_url, json=data_test)\n",
    "print(f\"{hall_response.status_code},\\n{hall_response.ok}\")\n",
    "if hall_response.ok:\n",
    "    print(\"Output:\")\n",
    "    hall_response = hall_response.json()\n",
    "    print(hall_response)\n",
    "else:\n",
    "    print(f\"{hall_response.json().get('detail')}\")"
   ]
  },
  {
   "cell_type": "code",
   "execution_count": null,
   "metadata": {},
   "outputs": [],
   "source": []
  },
  {
   "cell_type": "code",
   "execution_count": null,
   "metadata": {},
   "outputs": [],
   "source": []
  }
 ],
 "metadata": {
  "interpreter": {
   "hash": "978925483a76575b67709914e9e632eeac005fdbcd7213d065deb04f55dfa125"
  },
  "kernelspec": {
   "display_name": "Python 3.9.5 64-bit ('eko_env': venv)",
   "language": "python",
   "name": "python3"
  },
  "language_info": {
   "codemirror_mode": {
    "name": "ipython",
    "version": 3
   },
   "file_extension": ".py",
   "mimetype": "text/x-python",
   "name": "python",
   "nbconvert_exporter": "python",
   "pygments_lexer": "ipython3",
   "version": "3.9.5"
  },
  "orig_nbformat": 4
 },
 "nbformat": 4,
 "nbformat_minor": 2
}
